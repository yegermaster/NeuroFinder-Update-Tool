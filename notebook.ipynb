{
 "cells": [
  {
   "cell_type": "markdown",
   "metadata": {},
   "source": [
    "## NeuroFinder Processing Tool - Jupyter Notebook Version\n",
    "\n",
    "Welcome to the NeuroFinder Processing Tool. This Jupyter Notebook provides a non-GUI interface to run the project and get familiar with its functionalities. You can process your data files, update databases, and generate reports directly within this notebook.\n",
    "\n",
    "The NeuroFinder Processing Tool automates the management of a comprehensive database containing company information related to neurotechnology. It facilitates the import, standardization, validation, and updating of company data files in multiple formats (e.g., CSV, Excel)."
   ]
  },
  {
   "cell_type": "markdown",
   "metadata": {},
   "source": [
    "### Objective of This Notebook\n",
    "\n",
    "This notebook aims to:\n",
    "* Provide an interactive environment to run the NeuroFinder Processing Tool without the GUI.\n",
    "* Allow you to load data files, process them, and export the results.\n",
    "* Help you get familiar with the tool's functionalities."
   ]
  },
  {
   "cell_type": "markdown",
   "metadata": {},
   "source": [
    "### Prerequisites\n",
    "\n",
    "Before running this notebook, ensure you have:\n",
    "\n",
    "* Python 3.x installed.\n",
    "* Necessary Python packages (we will install them in the next step).\n",
    "* Access to the data files you wish to process.\n",
    "* The main database files (main_database.xlsx, not_neurotech_database.xlsx)."
   ]
  },
  {
   "cell_type": "code",
   "execution_count": null,
   "metadata": {},
   "outputs": [],
   "source": [
    "# Install required packages\n",
    "!pip install pandas openpyxl requests python-dotenv matplotlib seaborn sqlite3\n"
   ]
  },
  {
   "cell_type": "code",
   "execution_count": null,
   "metadata": {},
   "outputs": [],
   "source": [
    "!python.exe -m pip install --upgrade pip\n"
   ]
  },
  {
   "cell_type": "code",
   "execution_count": null,
   "metadata": {},
   "outputs": [],
   "source": [
    "# Import standard libraries\n",
    "import os\n",
    "import re\n",
    "import unicodedata\n",
    "from datetime import datetime as dt\n",
    "\n",
    "# Import third-party libraries\n",
    "import pandas as pd\n",
    "from dotenv import load_dotenv\n",
    "\n",
    "import warnings\n",
    "warnings.filterwarnings(\"ignore\", category=UserWarning, module=\"openpyxl\")\n"
   ]
  },
  {
   "cell_type": "markdown",
   "metadata": {},
   "source": [
    "### Loading Environment Variables\n",
    "\n",
    "If you have a .env file with environment variables, you can load it using python-dotenv. Otherwise, we can set default paths."
   ]
  },
  {
   "cell_type": "code",
   "execution_count": null,
   "metadata": {},
   "outputs": [],
   "source": [
    "# Load environment variables\n",
    "load_dotenv()\n",
    "MAIN_DB_PATH = os.getenv('MAIN_DB_PATH')\n",
    "NOT_NEUROTECH_DB_PATH = os.getenv('NOT_NEUROTECH_DB_PATH')\n",
    "NEW_COMPANIES_PATH = os.getenv('NEW_COMPANIES_PATH')\n",
    "UPDATED_COMPANIES_PATH = os.getenv('UPDATED_COMPANIES_PATH')\n"
   ]
  },
  {
   "cell_type": "markdown",
   "metadata": {},
   "source": [
    "Defining Helper Functions"
   ]
  },
  {
   "cell_type": "code",
   "execution_count": null,
   "metadata": {},
   "outputs": [],
   "source": [
    "def clean_value(value):\n",
    "    \"\"\"Cleans the input value by stripping unwanted characters and converting to int if possible.\"\"\"\n",
    "    if pd.isna(value):\n",
    "        return value\n",
    "    cleaned_value = str(value).strip('=\"')\n",
    "    try:\n",
    "        return int(cleaned_value)\n",
    "    except ValueError:\n",
    "        return cleaned_value\n",
    "\n",
    "def clean_dataframe(filepath, file_type='csv'):\n",
    "    \"\"\"Reads a file into a DataFrame, cleans it, and returns the cleaned DataFrame.\"\"\"\n",
    "    read_function = pd.read_csv if file_type == 'csv' else pd.read_excel\n",
    "    df = read_function(filepath, index_col=False,\n",
    "                       engine='openpyxl' if file_type == 'excel' else None)\n",
    "    if 'former company names' in df.columns:\n",
    "        df['former company names'] = df['former company names'].astype(str)\n",
    "    for col in df.columns:\n",
    "        df[col] = df[col].apply(clean_value)\n",
    "    return df\n",
    "\n",
    "def escape_special_characters(name: str) -> str:\n",
    "    \"\"\"Replaces special characters in a filename with underscores to ensure compatibility.\"\"\"\n",
    "    return re.sub(r'[^a-zA-Z0-9-_]', '_', name)\n"
   ]
  },
  {
   "cell_type": "markdown",
   "metadata": {},
   "source": [
    "### Initializing the Database Handler\n",
    "\n",
    "Create an instance of the DbHandler class to manage your databases."
   ]
  },
  {
   "cell_type": "code",
   "execution_count": null,
   "metadata": {},
   "outputs": [],
   "source": [
    "from main.backend import DbHandler\n",
    "# Initialize the database handler\n",
    "db_handler = DbHandler(MAIN_DB_PATH, NOT_NEUROTECH_DB_PATH)"
   ]
  },
  {
   "cell_type": "markdown",
   "metadata": {},
   "source": [
    "# Review the data"
   ]
  },
  {
   "cell_type": "code",
   "execution_count": null,
   "metadata": {},
   "outputs": [],
   "source": [
    "db_handler.main_db.describe()"
   ]
  },
  {
   "cell_type": "code",
   "execution_count": null,
   "metadata": {},
   "outputs": [],
   "source": [
    "db_handler.main_db.shape\n",
    "# 659 companies X 58 columns (features)"
   ]
  },
  {
   "cell_type": "code",
   "execution_count": null,
   "metadata": {},
   "outputs": [],
   "source": [
    "db_handler.main_db.head()"
   ]
  },
  {
   "cell_type": "markdown",
   "metadata": {},
   "source": [
    "## Review functions"
   ]
  },
  {
   "cell_type": "markdown",
   "metadata": {},
   "source": [
    "#### search new companies"
   ]
  },
  {
   "cell_type": "code",
   "execution_count": null,
   "metadata": {},
   "outputs": [],
   "source": [
    "# Lets check the new copmanies database shape: 0 compnaies = the file is empty\n",
    "db_handler.new_companies_db.shape"
   ]
  },
  {
   "cell_type": "code",
   "execution_count": null,
   "metadata": {},
   "outputs": [],
   "source": [
    "# Let's view the new potenital companies from CrunchBase\n",
    "cb_path = 'main/CB_july24.csv'\n",
    "cb_new_data = clean_dataframe('main/CB_july24.csv')\n",
    "cb_new_data.head() "
   ]
  },
  {
   "cell_type": "code",
   "execution_count": null,
   "metadata": {},
   "outputs": [],
   "source": [
    "# Lets check the new crunchbase data shape\n",
    "cb_new_data.shape"
   ]
  },
  {
   "cell_type": "code",
   "execution_count": null,
   "metadata": {},
   "outputs": [],
   "source": [
    "# Let's start the search prcoess with the crunchbase file path and data_type as \"cb\"\n",
    "db_handler.start_searching_process(file_path=cb_path, data_type=\"cb\")\n",
    "db_handler.new_companies_db.shape # Lets check the new copmanies data base shape"
   ]
  },
  {
   "cell_type": "markdown",
   "metadata": {},
   "source": [
    "#### Update new copmanies"
   ]
  },
  {
   "cell_type": "code",
   "execution_count": null,
   "metadata": {},
   "outputs": [],
   "source": [
    "db_handler.update_companies_db.shape"
   ]
  },
  {
   "cell_type": "code",
   "execution_count": null,
   "metadata": {},
   "outputs": [],
   "source": [
    "# Let's view the new potenital companies from CrunchBase\n",
    "cb_path = 'main/CB_july24.csv'\n",
    "cb_new_data = clean_dataframe('main/CB_july24.csv')\n",
    "cb_new_data.head() "
   ]
  },
  {
   "cell_type": "code",
   "execution_count": null,
   "metadata": {},
   "outputs": [],
   "source": [
    "db_handler.start_update_process(cb_path, \"cb\")"
   ]
  },
  {
   "cell_type": "code",
   "execution_count": null,
   "metadata": {},
   "outputs": [],
   "source": [
    "db_handler.update_companies_db.shape"
   ]
  },
  {
   "cell_type": "code",
   "execution_count": 19,
   "metadata": {},
   "outputs": [],
   "source": [
    "import pandas as pd"
   ]
  },
  {
   "cell_type": "code",
   "execution_count": null,
   "metadata": {},
   "outputs": [],
   "source": [
    "df = pd.read_excel('main/not_neurotech.xlsx')"
   ]
  },
  {
   "cell_type": "code",
   "execution_count": null,
   "metadata": {},
   "outputs": [],
   "source": [
    "df.head()"
   ]
  },
  {
   "cell_type": "code",
   "execution_count": null,
   "metadata": {},
   "outputs": [],
   "source": [
    "df.describe()"
   ]
  },
  {
   "cell_type": "code",
   "execution_count": 20,
   "metadata": {},
   "outputs": [
    {
     "name": "stderr",
     "output_type": "stream",
     "text": [
      "c:\\Users\\Owner\\לימודים\\בריינסטורם\\neurofinder\\pythonProject\\.venv\\lib\\site-packages\\openpyxl\\worksheet\\_reader.py:329: UserWarning: Unknown extension is not supported and will be removed\n",
      "  warn(msg)\n"
     ]
    }
   ],
   "source": [
    "df = pd.read_excel(\"main/NeuroTech Industry IL 2024.xlsx\")"
   ]
  },
  {
   "cell_type": "code",
   "execution_count": 21,
   "metadata": {},
   "outputs": [
    {
     "data": {
      "text/html": [
       "<div>\n",
       "<style scoped>\n",
       "    .dataframe tbody tr th:only-of-type {\n",
       "        vertical-align: middle;\n",
       "    }\n",
       "\n",
       "    .dataframe tbody tr th {\n",
       "        vertical-align: top;\n",
       "    }\n",
       "\n",
       "    .dataframe thead th {\n",
       "        text-align: right;\n",
       "    }\n",
       "</style>\n",
       "<table border=\"1\" class=\"dataframe\">\n",
       "  <thead>\n",
       "    <tr style=\"text-align: right;\">\n",
       "      <th></th>\n",
       "      <th>Company Name</th>\n",
       "      <th>Updating_Date</th>\n",
       "      <th>Logo in Visualization folder?</th>\n",
       "      <th>Operation Status (Active=True, False = False)</th>\n",
       "      <th>INCLUSION</th>\n",
       "      <th>Operation/relevant Notes</th>\n",
       "      <th>Website</th>\n",
       "      <th>Startup Nation Page</th>\n",
       "      <th>Neurotech Category</th>\n",
       "      <th>Market Category</th>\n",
       "      <th>...</th>\n",
       "      <th>Product Stage</th>\n",
       "      <th>Number of Patents</th>\n",
       "      <th>Comments</th>\n",
       "      <th>Unnamed: 52</th>\n",
       "      <th>Contact Name</th>\n",
       "      <th>Contact Phone Number / Email</th>\n",
       "      <th>האם יצרנו איתם כבר קשר? (כדי לא להתיש)</th>\n",
       "      <th>BrainstormIL contact</th>\n",
       "      <th>Unnamed: 57</th>\n",
       "      <th>Unnamed: 58</th>\n",
       "    </tr>\n",
       "  </thead>\n",
       "  <tbody>\n",
       "    <tr>\n",
       "      <th>0</th>\n",
       "      <td>1E Therapeutics</td>\n",
       "      <td>2024-02-14 00:00:00</td>\n",
       "      <td>yes</td>\n",
       "      <td>True</td>\n",
       "      <td>True</td>\n",
       "      <td>Not only neurotech: 1E's groundbreaking proces...</td>\n",
       "      <td>https://www.1etx.com/</td>\n",
       "      <td>https://finder.startupnationcentral.org/compan...</td>\n",
       "      <td>NeuroPharmacology | NeuroBioTechnology</td>\n",
       "      <td>Biotechnology &amp; Biopharmaceutical</td>\n",
       "      <td>...</td>\n",
       "      <td>NaN</td>\n",
       "      <td>NaN</td>\n",
       "      <td>NaN</td>\n",
       "      <td>NaN</td>\n",
       "      <td>NaN</td>\n",
       "      <td>NaN</td>\n",
       "      <td>NaN</td>\n",
       "      <td>NaN</td>\n",
       "      <td>NaN</td>\n",
       "      <td>NaN</td>\n",
       "    </tr>\n",
       "    <tr>\n",
       "      <th>1</th>\n",
       "      <td>AcousticView</td>\n",
       "      <td>2024-02-14 00:00:00</td>\n",
       "      <td>yes</td>\n",
       "      <td>True</td>\n",
       "      <td>True</td>\n",
       "      <td>NaN</td>\n",
       "      <td>http://www.acousticview.com/</td>\n",
       "      <td>https://finder.startupnationcentral.org/compan...</td>\n",
       "      <td>Imaging | Neuromonitoring</td>\n",
       "      <td>Medical devices | Medical equipment</td>\n",
       "      <td>...</td>\n",
       "      <td>Released</td>\n",
       "      <td>NaN</td>\n",
       "      <td>NaN</td>\n",
       "      <td>NaN</td>\n",
       "      <td>NaN</td>\n",
       "      <td>NaN</td>\n",
       "      <td>NaN</td>\n",
       "      <td>NaN</td>\n",
       "      <td>NaN</td>\n",
       "      <td>NaN</td>\n",
       "    </tr>\n",
       "    <tr>\n",
       "      <th>2</th>\n",
       "      <td>ActiView</td>\n",
       "      <td>2022-12-03 00:00:00</td>\n",
       "      <td>n.a</td>\n",
       "      <td>False</td>\n",
       "      <td>False</td>\n",
       "      <td>not neurotech</td>\n",
       "      <td>www.actiview.io/</td>\n",
       "      <td>NaN</td>\n",
       "      <td>Cognitive Assessment &amp; Enhancement</td>\n",
       "      <td>Consumer Electronics</td>\n",
       "      <td>...</td>\n",
       "      <td>NaN</td>\n",
       "      <td>NaN</td>\n",
       "      <td>NaN</td>\n",
       "      <td>NaN</td>\n",
       "      <td>NaN</td>\n",
       "      <td>NaN</td>\n",
       "      <td>NaN</td>\n",
       "      <td>NaN</td>\n",
       "      <td>NaN</td>\n",
       "      <td>NaN</td>\n",
       "    </tr>\n",
       "    <tr>\n",
       "      <th>3</th>\n",
       "      <td>ActualSignal</td>\n",
       "      <td>2024-07-14 00:00:00</td>\n",
       "      <td>No</td>\n",
       "      <td>True</td>\n",
       "      <td>True</td>\n",
       "      <td>NaN</td>\n",
       "      <td>https://www.actualsignal.com/</td>\n",
       "      <td>https://finder.startupnationcentral.org/compan...</td>\n",
       "      <td>NeuroreHabilitation | NeuroDegenerative | Neur...</td>\n",
       "      <td>Digital &amp; Health care</td>\n",
       "      <td>...</td>\n",
       "      <td>NaN</td>\n",
       "      <td>NaN</td>\n",
       "      <td>NaN</td>\n",
       "      <td>NaN</td>\n",
       "      <td>NaN</td>\n",
       "      <td>NaN</td>\n",
       "      <td>NaN</td>\n",
       "      <td>NaN</td>\n",
       "      <td>NaN</td>\n",
       "      <td>NaN</td>\n",
       "    </tr>\n",
       "    <tr>\n",
       "      <th>4</th>\n",
       "      <td>Adam CogTech</td>\n",
       "      <td>2024-02-14 00:00:00</td>\n",
       "      <td>yes</td>\n",
       "      <td>True</td>\n",
       "      <td>True</td>\n",
       "      <td>NaN</td>\n",
       "      <td>http://adam-cogtec.com/</td>\n",
       "      <td>https://finder.startupnationcentral.org/compan...</td>\n",
       "      <td>Cognitive Assessment &amp; Enhancement</td>\n",
       "      <td>Consumer Electronics</td>\n",
       "      <td>...</td>\n",
       "      <td>NaN</td>\n",
       "      <td>NaN</td>\n",
       "      <td>NaN</td>\n",
       "      <td>NaN</td>\n",
       "      <td>NaN</td>\n",
       "      <td>NaN</td>\n",
       "      <td>NaN</td>\n",
       "      <td>אסף הראל</td>\n",
       "      <td>NaN</td>\n",
       "      <td>NaN</td>\n",
       "    </tr>\n",
       "  </tbody>\n",
       "</table>\n",
       "<p>5 rows × 59 columns</p>\n",
       "</div>"
      ],
      "text/plain": [
       "      Company Name        Updating_Date Logo in Visualization folder?  \\\n",
       "0  1E Therapeutics  2024-02-14 00:00:00                           yes   \n",
       "1     AcousticView  2024-02-14 00:00:00                           yes   \n",
       "2         ActiView  2022-12-03 00:00:00                           n.a   \n",
       "3     ActualSignal  2024-07-14 00:00:00                            No   \n",
       "4     Adam CogTech  2024-02-14 00:00:00                           yes   \n",
       "\n",
       "  Operation Status (Active=True, False = False) INCLUSION  \\\n",
       "0                                          True      True   \n",
       "1                                          True      True   \n",
       "2                                         False     False   \n",
       "3                                          True      True   \n",
       "4                                          True      True   \n",
       "\n",
       "                            Operation/relevant Notes  \\\n",
       "0  Not only neurotech: 1E's groundbreaking proces...   \n",
       "1                                                NaN   \n",
       "2                                      not neurotech   \n",
       "3                                                NaN   \n",
       "4                                                NaN   \n",
       "\n",
       "                         Website  \\\n",
       "0          https://www.1etx.com/   \n",
       "1   http://www.acousticview.com/   \n",
       "2               www.actiview.io/   \n",
       "3  https://www.actualsignal.com/   \n",
       "4        http://adam-cogtec.com/   \n",
       "\n",
       "                                 Startup Nation Page  \\\n",
       "0  https://finder.startupnationcentral.org/compan...   \n",
       "1  https://finder.startupnationcentral.org/compan...   \n",
       "2                                                NaN   \n",
       "3  https://finder.startupnationcentral.org/compan...   \n",
       "4  https://finder.startupnationcentral.org/compan...   \n",
       "\n",
       "                                  Neurotech Category  \\\n",
       "0             NeuroPharmacology | NeuroBioTechnology   \n",
       "1                          Imaging | Neuromonitoring   \n",
       "2                 Cognitive Assessment & Enhancement   \n",
       "3  NeuroreHabilitation | NeuroDegenerative | Neur...   \n",
       "4                 Cognitive Assessment & Enhancement   \n",
       "\n",
       "                       Market Category  ... Product Stage Number of Patents  \\\n",
       "0    Biotechnology & Biopharmaceutical  ...           NaN               NaN   \n",
       "1  Medical devices | Medical equipment  ...      Released               NaN   \n",
       "2                 Consumer Electronics  ...           NaN               NaN   \n",
       "3                Digital & Health care  ...           NaN               NaN   \n",
       "4                 Consumer Electronics  ...           NaN               NaN   \n",
       "\n",
       "  Comments Unnamed: 52 Contact Name Contact Phone Number / Email  \\\n",
       "0      NaN         NaN          NaN                          NaN   \n",
       "1      NaN         NaN          NaN                          NaN   \n",
       "2      NaN         NaN          NaN                          NaN   \n",
       "3      NaN         NaN          NaN                          NaN   \n",
       "4      NaN         NaN          NaN                          NaN   \n",
       "\n",
       "  האם יצרנו איתם כבר קשר? (כדי לא להתיש) BrainstormIL contact Unnamed: 57  \\\n",
       "0                                    NaN                  NaN         NaN   \n",
       "1                                    NaN                  NaN         NaN   \n",
       "2                                    NaN                  NaN         NaN   \n",
       "3                                    NaN                  NaN         NaN   \n",
       "4                                    NaN             אסף הראל         NaN   \n",
       "\n",
       "  Unnamed: 58  \n",
       "0         NaN  \n",
       "1         NaN  \n",
       "2         NaN  \n",
       "3         NaN  \n",
       "4         NaN  \n",
       "\n",
       "[5 rows x 59 columns]"
      ]
     },
     "execution_count": 21,
     "metadata": {},
     "output_type": "execute_result"
    }
   ],
   "source": [
    "df.head()"
   ]
  },
  {
   "cell_type": "code",
   "execution_count": 24,
   "metadata": {},
   "outputs": [],
   "source": [
    "lst = df.columns"
   ]
  },
  {
   "cell_type": "code",
   "execution_count": 30,
   "metadata": {},
   "outputs": [
    {
     "data": {
      "text/plain": [
       "'Company Name'"
      ]
     },
     "execution_count": 30,
     "metadata": {},
     "output_type": "execute_result"
    }
   ],
   "source": [
    "type(lst.to_list)\n",
    "lst[0]"
   ]
  },
  {
   "cell_type": "code",
   "execution_count": 33,
   "metadata": {},
   "outputs": [
    {
     "name": "stdout",
     "output_type": "stream",
     "text": [
      "2\n"
     ]
    }
   ],
   "source": [
    "if 'Company Name' in df.columns:\n",
    "    print(\"2\")"
   ]
  },
  {
   "cell_type": "code",
   "execution_count": null,
   "metadata": {},
   "outputs": [],
   "source": []
  }
 ],
 "metadata": {
  "kernelspec": {
   "display_name": ".venv",
   "language": "python",
   "name": "python3"
  },
  "language_info": {
   "codemirror_mode": {
    "name": "ipython",
    "version": 3
   },
   "file_extension": ".py",
   "mimetype": "text/x-python",
   "name": "python",
   "nbconvert_exporter": "python",
   "pygments_lexer": "ipython3",
   "version": "3.10.5"
  }
 },
 "nbformat": 4,
 "nbformat_minor": 2
}
