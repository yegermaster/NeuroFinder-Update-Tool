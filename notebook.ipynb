{
 "cells": [
  {
   "cell_type": "markdown",
   "metadata": {},
   "source": [
    "## NeuroFinder Processing Tool - Jupyter Notebook Version\n",
    "\n",
    "Welcome to the NeuroFinder Processing Tool. This Jupyter Notebook provides a non-GUI interface to run the project and get familiar with its functionalities. You can process your data files, update databases, and generate reports directly within this notebook.\n",
    "\n",
    "The NeuroFinder Processing Tool automates the management of a comprehensive database containing company information related to neurotechnology. It facilitates the import, standardization, validation, and updating of company data files in multiple formats (e.g., CSV, Excel)."
   ]
  },
  {
   "cell_type": "markdown",
   "metadata": {},
   "source": [
    "### Objective of This Notebook\n",
    "\n",
    "This notebook aims to:\n",
    "* Provide an interactive environment to run the NeuroFinder Processing Tool without the GUI.\n",
    "* Allow you to load data files, process them, and export the results.\n",
    "* Help you get familiar with the tool's functionalities."
   ]
  },
  {
   "cell_type": "markdown",
   "metadata": {},
   "source": [
    "### Prerequisites\n",
    "\n",
    "Before running this notebook, ensure you have:\n",
    "\n",
    "* Python 3.x installed.\n",
    "* Necessary Python packages (we will install them in the next step).\n",
    "* Access to the data files you wish to process.\n",
    "* The main database files (main_database.xlsx, not_neurotech_database.xlsx)."
   ]
  },
  {
   "cell_type": "code",
   "execution_count": 1,
   "metadata": {},
   "outputs": [
    {
     "name": "stdout",
     "output_type": "stream",
     "text": [
      "Requirement already satisfied: pandas in c:\\users\\owner\\לימודים\\בריינסטורם\\neurofinder\\pythonproject\\.venv\\lib\\site-packages (2.2.2)\n",
      "Requirement already satisfied: openpyxl in c:\\users\\owner\\לימודים\\בריינסטורם\\neurofinder\\pythonproject\\.venv\\lib\\site-packages (3.1.2)\n",
      "Requirement already satisfied: requests in c:\\users\\owner\\לימודים\\בריינסטורם\\neurofinder\\pythonproject\\.venv\\lib\\site-packages (2.32.3)\n",
      "Requirement already satisfied: python-dotenv in c:\\users\\owner\\לימודים\\בריינסטורם\\neurofinder\\pythonproject\\.venv\\lib\\site-packages (1.0.1)\n",
      "Requirement already satisfied: matplotlib in c:\\users\\owner\\לימודים\\בריינסטורם\\neurofinder\\pythonproject\\.venv\\lib\\site-packages (3.9.2)\n",
      "Collecting seaborn\n",
      "  Using cached seaborn-0.13.2-py3-none-any.whl.metadata (5.4 kB)\n"
     ]
    },
    {
     "name": "stderr",
     "output_type": "stream",
     "text": [
      "ERROR: Could not find a version that satisfies the requirement sqlite3 (from versions: none)\n",
      "ERROR: No matching distribution found for sqlite3\n"
     ]
    }
   ],
   "source": [
    "# Install required packages\n",
    "!pip install pandas openpyxl requests python-dotenv matplotlib seaborn sqlite3\n"
   ]
  },
  {
   "cell_type": "code",
   "execution_count": 2,
   "metadata": {},
   "outputs": [
    {
     "name": "stdout",
     "output_type": "stream",
     "text": [
      "Requirement already satisfied: pip in c:\\users\\owner\\לימודים\\בריינסטורם\\neurofinder\\pythonproject\\.venv\\lib\\site-packages (24.3.1)\n"
     ]
    }
   ],
   "source": [
    "!python.exe -m pip install --upgrade pip\n"
   ]
  },
  {
   "cell_type": "code",
   "execution_count": 3,
   "metadata": {},
   "outputs": [],
   "source": [
    "# Import standard libraries\n",
    "import os\n",
    "import re\n",
    "import unicodedata\n",
    "from datetime import datetime as dt\n",
    "\n",
    "# Import third-party libraries\n",
    "import pandas as pd\n",
    "from dotenv import load_dotenv\n",
    "\n",
    "import warnings\n",
    "warnings.filterwarnings(\"ignore\", category=UserWarning, module=\"openpyxl\")\n"
   ]
  },
  {
   "cell_type": "markdown",
   "metadata": {},
   "source": [
    "### Loading Environment Variables\n",
    "\n",
    "If you have a .env file with environment variables, you can load it using python-dotenv. Otherwise, we can set default paths."
   ]
  },
  {
   "cell_type": "code",
   "execution_count": 4,
   "metadata": {},
   "outputs": [],
   "source": [
    "# Load environment variables\n",
    "load_dotenv()\n",
    "MAIN_DB_PATH = os.getenv('MAIN_DB_PATH')\n",
    "NOT_NEUROTECH_DB_PATH = os.getenv('NOT_NEUROTECH_DB_PATH')\n",
    "NEW_COMPANIES_PATH = os.getenv('NEW_COMPANIES_PATH')\n",
    "UPDATED_COMPANIES_PATH = os.getenv('UPDATED_COMPANIES_PATH')\n"
   ]
  },
  {
   "cell_type": "markdown",
   "metadata": {},
   "source": [
    "Defining Helper Functions"
   ]
  },
  {
   "cell_type": "code",
   "execution_count": 5,
   "metadata": {},
   "outputs": [],
   "source": [
    "def clean_value(value):\n",
    "    \"\"\"Cleans the input value by stripping unwanted characters and converting to int if possible.\"\"\"\n",
    "    if pd.isna(value):\n",
    "        return value\n",
    "    cleaned_value = str(value).strip('=\"')\n",
    "    try:\n",
    "        return int(cleaned_value)\n",
    "    except ValueError:\n",
    "        return cleaned_value\n",
    "\n",
    "def clean_dataframe(filepath, file_type='csv'):\n",
    "    \"\"\"Reads a file into a DataFrame, cleans it, and returns the cleaned DataFrame.\"\"\"\n",
    "    read_function = pd.read_csv if file_type == 'csv' else pd.read_excel\n",
    "    df = read_function(filepath, index_col=False,\n",
    "                       engine='openpyxl' if file_type == 'excel' else None)\n",
    "    if 'former company names' in df.columns:\n",
    "        df['former company names'] = df['former company names'].astype(str)\n",
    "    for col in df.columns:\n",
    "        df[col] = df[col].apply(clean_value)\n",
    "    return df\n",
    "\n",
    "def escape_special_characters(name: str) -> str:\n",
    "    \"\"\"Replaces special characters in a filename with underscores to ensure compatibility.\"\"\"\n",
    "    return re.sub(r'[^a-zA-Z0-9-_]', '_', name)\n"
   ]
  },
  {
   "cell_type": "markdown",
   "metadata": {},
   "source": [
    "### Initializing the Database Handler\n",
    "\n",
    "Create an instance of the DbHandler class to manage your databases."
   ]
  },
  {
   "cell_type": "code",
   "execution_count": 6,
   "metadata": {},
   "outputs": [],
   "source": [
    "from main.backend import DbHandler\n",
    "# Initialize the database handler\n",
    "db_handler = DbHandler(MAIN_DB_PATH, NOT_NEUROTECH_DB_PATH)"
   ]
  },
  {
   "cell_type": "markdown",
   "metadata": {},
   "source": [
    "# Review the data"
   ]
  },
  {
   "cell_type": "code",
   "execution_count": 7,
   "metadata": {},
   "outputs": [
    {
     "data": {
      "text/html": [
       "<div>\n",
       "<style scoped>\n",
       "    .dataframe tbody tr th:only-of-type {\n",
       "        vertical-align: middle;\n",
       "    }\n",
       "\n",
       "    .dataframe tbody tr th {\n",
       "        vertical-align: top;\n",
       "    }\n",
       "\n",
       "    .dataframe thead th {\n",
       "        text-align: right;\n",
       "    }\n",
       "</style>\n",
       "<table border=\"1\" class=\"dataframe\">\n",
       "  <thead>\n",
       "    <tr style=\"text-align: right;\">\n",
       "      <th></th>\n",
       "      <th>Total_Funding_Amount</th>\n",
       "      <th>Number_of_Funding_Rounds</th>\n",
       "      <th>Company_Number_of_Investors</th>\n",
       "      <th>Company_Number_of_Investments</th>\n",
       "      <th>Number of Patents</th>\n",
       "      <th>Unnamed: 51</th>\n",
       "      <th>Contact Name</th>\n",
       "    </tr>\n",
       "  </thead>\n",
       "  <tbody>\n",
       "    <tr>\n",
       "      <th>count</th>\n",
       "      <td>1.420000e+02</td>\n",
       "      <td>164.000000</td>\n",
       "      <td>151.000000</td>\n",
       "      <td>6.000000</td>\n",
       "      <td>1.0</td>\n",
       "      <td>0.0</td>\n",
       "      <td>0.0</td>\n",
       "    </tr>\n",
       "    <tr>\n",
       "      <th>mean</th>\n",
       "      <td>3.609006e+07</td>\n",
       "      <td>2.579268</td>\n",
       "      <td>3.827815</td>\n",
       "      <td>2.833333</td>\n",
       "      <td>13.0</td>\n",
       "      <td>NaN</td>\n",
       "      <td>NaN</td>\n",
       "    </tr>\n",
       "    <tr>\n",
       "      <th>std</th>\n",
       "      <td>1.101366e+08</td>\n",
       "      <td>2.195882</td>\n",
       "      <td>3.862230</td>\n",
       "      <td>1.329160</td>\n",
       "      <td>NaN</td>\n",
       "      <td>NaN</td>\n",
       "      <td>NaN</td>\n",
       "    </tr>\n",
       "    <tr>\n",
       "      <th>min</th>\n",
       "      <td>1.600000e+04</td>\n",
       "      <td>0.000000</td>\n",
       "      <td>0.000000</td>\n",
       "      <td>1.000000</td>\n",
       "      <td>13.0</td>\n",
       "      <td>NaN</td>\n",
       "      <td>NaN</td>\n",
       "    </tr>\n",
       "    <tr>\n",
       "      <th>25%</th>\n",
       "      <td>1.250000e+06</td>\n",
       "      <td>1.000000</td>\n",
       "      <td>1.000000</td>\n",
       "      <td>2.000000</td>\n",
       "      <td>13.0</td>\n",
       "      <td>NaN</td>\n",
       "      <td>NaN</td>\n",
       "    </tr>\n",
       "    <tr>\n",
       "      <th>50%</th>\n",
       "      <td>5.206974e+06</td>\n",
       "      <td>2.000000</td>\n",
       "      <td>2.000000</td>\n",
       "      <td>3.000000</td>\n",
       "      <td>13.0</td>\n",
       "      <td>NaN</td>\n",
       "      <td>NaN</td>\n",
       "    </tr>\n",
       "    <tr>\n",
       "      <th>75%</th>\n",
       "      <td>2.778750e+07</td>\n",
       "      <td>3.000000</td>\n",
       "      <td>5.000000</td>\n",
       "      <td>4.000000</td>\n",
       "      <td>13.0</td>\n",
       "      <td>NaN</td>\n",
       "      <td>NaN</td>\n",
       "    </tr>\n",
       "    <tr>\n",
       "      <th>max</th>\n",
       "      <td>9.200000e+08</td>\n",
       "      <td>13.000000</td>\n",
       "      <td>16.000000</td>\n",
       "      <td>4.000000</td>\n",
       "      <td>13.0</td>\n",
       "      <td>NaN</td>\n",
       "      <td>NaN</td>\n",
       "    </tr>\n",
       "  </tbody>\n",
       "</table>\n",
       "</div>"
      ],
      "text/plain": [
       "       Total_Funding_Amount  Number_of_Funding_Rounds  \\\n",
       "count          1.420000e+02                164.000000   \n",
       "mean           3.609006e+07                  2.579268   \n",
       "std            1.101366e+08                  2.195882   \n",
       "min            1.600000e+04                  0.000000   \n",
       "25%            1.250000e+06                  1.000000   \n",
       "50%            5.206974e+06                  2.000000   \n",
       "75%            2.778750e+07                  3.000000   \n",
       "max            9.200000e+08                 13.000000   \n",
       "\n",
       "       Company_Number_of_Investors  Company_Number_of_Investments  \\\n",
       "count                   151.000000                       6.000000   \n",
       "mean                      3.827815                       2.833333   \n",
       "std                       3.862230                       1.329160   \n",
       "min                       0.000000                       1.000000   \n",
       "25%                       1.000000                       2.000000   \n",
       "50%                       2.000000                       3.000000   \n",
       "75%                       5.000000                       4.000000   \n",
       "max                      16.000000                       4.000000   \n",
       "\n",
       "       Number of Patents   Unnamed: 51  Contact Name  \n",
       "count                 1.0          0.0           0.0  \n",
       "mean                 13.0          NaN           NaN  \n",
       "std                   NaN          NaN           NaN  \n",
       "min                  13.0          NaN           NaN  \n",
       "25%                  13.0          NaN           NaN  \n",
       "50%                  13.0          NaN           NaN  \n",
       "75%                  13.0          NaN           NaN  \n",
       "max                  13.0          NaN           NaN  "
      ]
     },
     "execution_count": 7,
     "metadata": {},
     "output_type": "execute_result"
    }
   ],
   "source": [
    "db_handler.main_db.describe()"
   ]
  },
  {
   "cell_type": "code",
   "execution_count": 8,
   "metadata": {},
   "outputs": [
    {
     "data": {
      "text/plain": [
       "(659, 58)"
      ]
     },
     "execution_count": 8,
     "metadata": {},
     "output_type": "execute_result"
    }
   ],
   "source": [
    "db_handler.main_db.shape\n",
    "# 659 companies X 58 columns (features)"
   ]
  },
  {
   "cell_type": "code",
   "execution_count": 9,
   "metadata": {},
   "outputs": [
    {
     "data": {
      "text/html": [
       "<div>\n",
       "<style scoped>\n",
       "    .dataframe tbody tr th:only-of-type {\n",
       "        vertical-align: middle;\n",
       "    }\n",
       "\n",
       "    .dataframe tbody tr th {\n",
       "        vertical-align: top;\n",
       "    }\n",
       "\n",
       "    .dataframe thead th {\n",
       "        text-align: right;\n",
       "    }\n",
       "</style>\n",
       "<table border=\"1\" class=\"dataframe\">\n",
       "  <thead>\n",
       "    <tr style=\"text-align: right;\">\n",
       "      <th></th>\n",
       "      <th>Company_Name</th>\n",
       "      <th>Updating_Date</th>\n",
       "      <th>Logo in Visualization folder?</th>\n",
       "      <th>Operation Status (Active=True, False = False)</th>\n",
       "      <th>INCLUSION</th>\n",
       "      <th>Operation/relevant Notes</th>\n",
       "      <th>Website</th>\n",
       "      <th>Startup Nation Page</th>\n",
       "      <th>Neurotech_Category</th>\n",
       "      <th>Market_Category</th>\n",
       "      <th>...</th>\n",
       "      <th>product_stage</th>\n",
       "      <th>Number of Patents</th>\n",
       "      <th>Comments</th>\n",
       "      <th>Unnamed: 51</th>\n",
       "      <th>Contact Name</th>\n",
       "      <th>Contact Phone Number / Email</th>\n",
       "      <th>האם יצרנו איתם כבר קשר? (כדי לא להתיש)</th>\n",
       "      <th>BrainstormIL contact</th>\n",
       "      <th>Unnamed: 56</th>\n",
       "      <th>Unnamed: 57</th>\n",
       "    </tr>\n",
       "  </thead>\n",
       "  <tbody>\n",
       "    <tr>\n",
       "      <th>0</th>\n",
       "      <td>1E Therapeutics</td>\n",
       "      <td>2024-02-14 00:00:00</td>\n",
       "      <td>yes</td>\n",
       "      <td>True</td>\n",
       "      <td>True</td>\n",
       "      <td>Not only neurotech: 1E's groundbreaking proces...</td>\n",
       "      <td>https://www.1etx.com/</td>\n",
       "      <td>https://finder.startupnationcentral.org/compan...</td>\n",
       "      <td>NeuroPharmacology | NeuroBioTechnology</td>\n",
       "      <td>Biotechnology &amp; Biopharmaceutical</td>\n",
       "      <td>...</td>\n",
       "      <td>NaN</td>\n",
       "      <td>NaN</td>\n",
       "      <td>NaN</td>\n",
       "      <td>NaN</td>\n",
       "      <td>NaN</td>\n",
       "      <td>NaN</td>\n",
       "      <td>NaN</td>\n",
       "      <td>NaN</td>\n",
       "      <td>NaN</td>\n",
       "      <td>NaN</td>\n",
       "    </tr>\n",
       "    <tr>\n",
       "      <th>1</th>\n",
       "      <td>2breathe Technologies Ltd</td>\n",
       "      <td>2023-06-08 00:00:00</td>\n",
       "      <td>yes</td>\n",
       "      <td>False</td>\n",
       "      <td>False</td>\n",
       "      <td>Not relevant to Neurotech/IL</td>\n",
       "      <td>2breathe.com/about-us/</td>\n",
       "      <td>NaN</td>\n",
       "      <td>NaN</td>\n",
       "      <td>NaN</td>\n",
       "      <td>...</td>\n",
       "      <td>NaN</td>\n",
       "      <td>NaN</td>\n",
       "      <td>NaN</td>\n",
       "      <td>NaN</td>\n",
       "      <td>NaN</td>\n",
       "      <td>NaN</td>\n",
       "      <td>NaN</td>\n",
       "      <td>NaN</td>\n",
       "      <td>NaN</td>\n",
       "      <td>NaN</td>\n",
       "    </tr>\n",
       "    <tr>\n",
       "      <th>2</th>\n",
       "      <td>AcousticView</td>\n",
       "      <td>2024-02-14 00:00:00</td>\n",
       "      <td>yes</td>\n",
       "      <td>True</td>\n",
       "      <td>True</td>\n",
       "      <td>NaN</td>\n",
       "      <td>http://www.acousticview.com/</td>\n",
       "      <td>https://finder.startupnationcentral.org/compan...</td>\n",
       "      <td>Imaging | Neuromonitoring</td>\n",
       "      <td>Medical devices | Medical equipment</td>\n",
       "      <td>...</td>\n",
       "      <td>Released</td>\n",
       "      <td>NaN</td>\n",
       "      <td>NaN</td>\n",
       "      <td>NaN</td>\n",
       "      <td>NaN</td>\n",
       "      <td>NaN</td>\n",
       "      <td>NaN</td>\n",
       "      <td>NaN</td>\n",
       "      <td>NaN</td>\n",
       "      <td>NaN</td>\n",
       "    </tr>\n",
       "    <tr>\n",
       "      <th>3</th>\n",
       "      <td>ActiView</td>\n",
       "      <td>2022-12-03 00:00:00</td>\n",
       "      <td>n.a</td>\n",
       "      <td>False</td>\n",
       "      <td>False</td>\n",
       "      <td>NaN</td>\n",
       "      <td>www.actiview.io/</td>\n",
       "      <td>NaN</td>\n",
       "      <td>Cognitive Assessment &amp; Enhancement</td>\n",
       "      <td>Consumer Electronics</td>\n",
       "      <td>...</td>\n",
       "      <td>NaN</td>\n",
       "      <td>NaN</td>\n",
       "      <td>NaN</td>\n",
       "      <td>NaN</td>\n",
       "      <td>NaN</td>\n",
       "      <td>NaN</td>\n",
       "      <td>NaN</td>\n",
       "      <td>NaN</td>\n",
       "      <td>NaN</td>\n",
       "      <td>NaN</td>\n",
       "    </tr>\n",
       "    <tr>\n",
       "      <th>4</th>\n",
       "      <td>ActualSignal</td>\n",
       "      <td>2024-07-14 00:00:00</td>\n",
       "      <td>No</td>\n",
       "      <td>True</td>\n",
       "      <td>True</td>\n",
       "      <td>NaN</td>\n",
       "      <td>https://www.actualsignal.com/</td>\n",
       "      <td>https://finder.startupnationcentral.org/compan...</td>\n",
       "      <td>NeuroreHabilitation | NeuroDegenerative | Neur...</td>\n",
       "      <td>Digital &amp; Health care</td>\n",
       "      <td>...</td>\n",
       "      <td>NaN</td>\n",
       "      <td>NaN</td>\n",
       "      <td>NaN</td>\n",
       "      <td>NaN</td>\n",
       "      <td>NaN</td>\n",
       "      <td>NaN</td>\n",
       "      <td>NaN</td>\n",
       "      <td>NaN</td>\n",
       "      <td>NaN</td>\n",
       "      <td>NaN</td>\n",
       "    </tr>\n",
       "  </tbody>\n",
       "</table>\n",
       "<p>5 rows × 58 columns</p>\n",
       "</div>"
      ],
      "text/plain": [
       "                Company_Name        Updating_Date  \\\n",
       "0            1E Therapeutics  2024-02-14 00:00:00   \n",
       "1  2breathe Technologies Ltd  2023-06-08 00:00:00   \n",
       "2               AcousticView  2024-02-14 00:00:00   \n",
       "3                   ActiView  2022-12-03 00:00:00   \n",
       "4               ActualSignal  2024-07-14 00:00:00   \n",
       "\n",
       "  Logo in Visualization folder? Operation Status (Active=True, False = False)  \\\n",
       "0                           yes                                          True   \n",
       "1                           yes                                         False   \n",
       "2                           yes                                          True   \n",
       "3                           n.a                                         False   \n",
       "4                            No                                          True   \n",
       "\n",
       "  INCLUSION                           Operation/relevant Notes  \\\n",
       "0      True  Not only neurotech: 1E's groundbreaking proces...   \n",
       "1     False                       Not relevant to Neurotech/IL   \n",
       "2      True                                                NaN   \n",
       "3     False                                                NaN   \n",
       "4      True                                                NaN   \n",
       "\n",
       "                         Website  \\\n",
       "0          https://www.1etx.com/   \n",
       "1         2breathe.com/about-us/   \n",
       "2   http://www.acousticview.com/   \n",
       "3               www.actiview.io/   \n",
       "4  https://www.actualsignal.com/   \n",
       "\n",
       "                                 Startup Nation Page  \\\n",
       "0  https://finder.startupnationcentral.org/compan...   \n",
       "1                                                NaN   \n",
       "2  https://finder.startupnationcentral.org/compan...   \n",
       "3                                                NaN   \n",
       "4  https://finder.startupnationcentral.org/compan...   \n",
       "\n",
       "                                  Neurotech_Category  \\\n",
       "0             NeuroPharmacology | NeuroBioTechnology   \n",
       "1                                                NaN   \n",
       "2                          Imaging | Neuromonitoring   \n",
       "3                 Cognitive Assessment & Enhancement   \n",
       "4  NeuroreHabilitation | NeuroDegenerative | Neur...   \n",
       "\n",
       "                       Market_Category  ... product_stage Number of Patents   \\\n",
       "0    Biotechnology & Biopharmaceutical  ...           NaN                NaN   \n",
       "1                                  NaN  ...           NaN                NaN   \n",
       "2  Medical devices | Medical equipment  ...      Released                NaN   \n",
       "3                 Consumer Electronics  ...           NaN                NaN   \n",
       "4                Digital & Health care  ...           NaN                NaN   \n",
       "\n",
       "  Comments Unnamed: 51 Contact Name Contact Phone Number / Email  \\\n",
       "0      NaN         NaN          NaN                          NaN   \n",
       "1      NaN         NaN          NaN                          NaN   \n",
       "2      NaN         NaN          NaN                          NaN   \n",
       "3      NaN         NaN          NaN                          NaN   \n",
       "4      NaN         NaN          NaN                          NaN   \n",
       "\n",
       "  האם יצרנו איתם כבר קשר? (כדי לא להתיש) BrainstormIL contact Unnamed: 56  \\\n",
       "0                                    NaN                  NaN         NaN   \n",
       "1                                    NaN                  NaN         NaN   \n",
       "2                                    NaN                  NaN         NaN   \n",
       "3                                    NaN                  NaN         NaN   \n",
       "4                                    NaN                  NaN         NaN   \n",
       "\n",
       "  Unnamed: 57  \n",
       "0         NaN  \n",
       "1         NaN  \n",
       "2         NaN  \n",
       "3         NaN  \n",
       "4         NaN  \n",
       "\n",
       "[5 rows x 58 columns]"
      ]
     },
     "execution_count": 9,
     "metadata": {},
     "output_type": "execute_result"
    }
   ],
   "source": [
    "db_handler.main_db.head()"
   ]
  },
  {
   "cell_type": "markdown",
   "metadata": {},
   "source": [
    "## Review functions"
   ]
  },
  {
   "cell_type": "markdown",
   "metadata": {},
   "source": [
    "#### search new companies"
   ]
  },
  {
   "cell_type": "code",
   "execution_count": 10,
   "metadata": {},
   "outputs": [
    {
     "data": {
      "text/plain": [
       "(0, 58)"
      ]
     },
     "execution_count": 10,
     "metadata": {},
     "output_type": "execute_result"
    }
   ],
   "source": [
    "# Lets check the new copmanies database shape: 0 compnaies = the file is empty\n",
    "db_handler.new_companies_db.shape"
   ]
  },
  {
   "cell_type": "code",
   "execution_count": 11,
   "metadata": {},
   "outputs": [
    {
     "data": {
      "text/html": [
       "<div>\n",
       "<style scoped>\n",
       "    .dataframe tbody tr th:only-of-type {\n",
       "        vertical-align: middle;\n",
       "    }\n",
       "\n",
       "    .dataframe tbody tr th {\n",
       "        vertical-align: top;\n",
       "    }\n",
       "\n",
       "    .dataframe thead th {\n",
       "        text-align: right;\n",
       "    }\n",
       "</style>\n",
       "<table border=\"1\" class=\"dataframe\">\n",
       "  <thead>\n",
       "    <tr style=\"text-align: right;\">\n",
       "      <th></th>\n",
       "      <th>Organization Name</th>\n",
       "      <th>Organization Name URL</th>\n",
       "      <th>Founded Date</th>\n",
       "      <th>Founded Date Precision</th>\n",
       "      <th>Full Description</th>\n",
       "      <th>Industries</th>\n",
       "      <th>Headquarters Location</th>\n",
       "      <th>Description</th>\n",
       "      <th>CB Rank (Company)</th>\n",
       "    </tr>\n",
       "  </thead>\n",
       "  <tbody>\n",
       "    <tr>\n",
       "      <th>0</th>\n",
       "      <td>BioCatch</td>\n",
       "      <td>https://www.crunchbase.com/organization/biocatch</td>\n",
       "      <td>2011-01-01</td>\n",
       "      <td>year</td>\n",
       "      <td>BioCatch is the leader in Behavioral Biometric...</td>\n",
       "      <td>Analytics, Cyber Security, FinTech, Fraud Dete...</td>\n",
       "      <td>Tel Aviv, Tel Aviv, Israel</td>\n",
       "      <td>BioCatch unlocks the power of behavior and del...</td>\n",
       "      <td>946</td>\n",
       "    </tr>\n",
       "    <tr>\n",
       "      <th>1</th>\n",
       "      <td>Wearable Devices</td>\n",
       "      <td>https://www.crunchbase.com/organization/wearab...</td>\n",
       "      <td>2014-03-13</td>\n",
       "      <td>day</td>\n",
       "      <td>Wearable Devices Ltd. (NASDAQ: WLDS) is a grow...</td>\n",
       "      <td>Artificial Intelligence (AI), Augmented Realit...</td>\n",
       "      <td>Yoqne`am `illit, HaZafon, Israel</td>\n",
       "      <td>Developing Mudra, a Brain-Computer Interface  ...</td>\n",
       "      <td>3,307</td>\n",
       "    </tr>\n",
       "    <tr>\n",
       "      <th>2</th>\n",
       "      <td>TechSee</td>\n",
       "      <td>https://www.crunchbase.com/organization/techsee</td>\n",
       "      <td>2015-01-01</td>\n",
       "      <td>year</td>\n",
       "      <td>TechSee is a technology and technical support ...</td>\n",
       "      <td>Artificial Intelligence (AI), Augmented Realit...</td>\n",
       "      <td>Herzliya, Tel Aviv, Israel</td>\n",
       "      <td>TechSee builds smart visual platforms that ena...</td>\n",
       "      <td>10,023</td>\n",
       "    </tr>\n",
       "    <tr>\n",
       "      <th>3</th>\n",
       "      <td>Brainsway</td>\n",
       "      <td>https://www.crunchbase.com/organization/brainsway</td>\n",
       "      <td>2003-01-01</td>\n",
       "      <td>year</td>\n",
       "      <td>Brainsway's patented breakthrough technology l...</td>\n",
       "      <td>Biotechnology, Health Care, Life Science</td>\n",
       "      <td>Jerusalem, Yerushalayim, Israel</td>\n",
       "      <td>Brainsway's patented breakthrough technology l...</td>\n",
       "      <td>10,879</td>\n",
       "    </tr>\n",
       "    <tr>\n",
       "      <th>4</th>\n",
       "      <td>Cortica</td>\n",
       "      <td>https://www.crunchbase.com/organization/cortica</td>\n",
       "      <td>2007-01-01</td>\n",
       "      <td>year</td>\n",
       "      <td>Cortica is an Israeli company founded in 2007 ...</td>\n",
       "      <td>Artificial Intelligence (AI), Automotive, Auto...</td>\n",
       "      <td>Tel Aviv, Tel Aviv, Israel</td>\n",
       "      <td>Cortica is a technology company developing AI ...</td>\n",
       "      <td>18,456</td>\n",
       "    </tr>\n",
       "  </tbody>\n",
       "</table>\n",
       "</div>"
      ],
      "text/plain": [
       "  Organization Name                              Organization Name URL  \\\n",
       "0          BioCatch   https://www.crunchbase.com/organization/biocatch   \n",
       "1  Wearable Devices  https://www.crunchbase.com/organization/wearab...   \n",
       "2           TechSee    https://www.crunchbase.com/organization/techsee   \n",
       "3         Brainsway  https://www.crunchbase.com/organization/brainsway   \n",
       "4           Cortica    https://www.crunchbase.com/organization/cortica   \n",
       "\n",
       "  Founded Date Founded Date Precision  \\\n",
       "0   2011-01-01                   year   \n",
       "1   2014-03-13                    day   \n",
       "2   2015-01-01                   year   \n",
       "3   2003-01-01                   year   \n",
       "4   2007-01-01                   year   \n",
       "\n",
       "                                    Full Description  \\\n",
       "0  BioCatch is the leader in Behavioral Biometric...   \n",
       "1  Wearable Devices Ltd. (NASDAQ: WLDS) is a grow...   \n",
       "2  TechSee is a technology and technical support ...   \n",
       "3  Brainsway's patented breakthrough technology l...   \n",
       "4  Cortica is an Israeli company founded in 2007 ...   \n",
       "\n",
       "                                          Industries  \\\n",
       "0  Analytics, Cyber Security, FinTech, Fraud Dete...   \n",
       "1  Artificial Intelligence (AI), Augmented Realit...   \n",
       "2  Artificial Intelligence (AI), Augmented Realit...   \n",
       "3           Biotechnology, Health Care, Life Science   \n",
       "4  Artificial Intelligence (AI), Automotive, Auto...   \n",
       "\n",
       "              Headquarters Location  \\\n",
       "0        Tel Aviv, Tel Aviv, Israel   \n",
       "1  Yoqne`am `illit, HaZafon, Israel   \n",
       "2        Herzliya, Tel Aviv, Israel   \n",
       "3   Jerusalem, Yerushalayim, Israel   \n",
       "4        Tel Aviv, Tel Aviv, Israel   \n",
       "\n",
       "                                         Description CB Rank (Company)  \n",
       "0  BioCatch unlocks the power of behavior and del...               946  \n",
       "1  Developing Mudra, a Brain-Computer Interface  ...             3,307  \n",
       "2  TechSee builds smart visual platforms that ena...            10,023  \n",
       "3  Brainsway's patented breakthrough technology l...            10,879  \n",
       "4  Cortica is a technology company developing AI ...            18,456  "
      ]
     },
     "execution_count": 11,
     "metadata": {},
     "output_type": "execute_result"
    }
   ],
   "source": [
    "# Let's view the new potenital companies from CrunchBase\n",
    "cb_path = 'main/CB_july24.csv'\n",
    "cb_new_data = clean_dataframe('main/CB_july24.csv')\n",
    "cb_new_data.head() "
   ]
  },
  {
   "cell_type": "code",
   "execution_count": 12,
   "metadata": {},
   "outputs": [
    {
     "data": {
      "text/plain": [
       "(274, 9)"
      ]
     },
     "execution_count": 12,
     "metadata": {},
     "output_type": "execute_result"
    }
   ],
   "source": [
    "# Lets check the new crunchbase data shape\n",
    "cb_new_data.shape"
   ]
  },
  {
   "cell_type": "code",
   "execution_count": 13,
   "metadata": {},
   "outputs": [
    {
     "data": {
      "text/plain": [
       "(10, 58)"
      ]
     },
     "execution_count": 13,
     "metadata": {},
     "output_type": "execute_result"
    }
   ],
   "source": [
    "# Let's start the search prcoess with the crunchbase file path and data_type as \"cb\"\n",
    "db_handler.start_searching_process(file_path=cb_path, data_type=\"cb\")\n",
    "db_handler.new_companies_db.shape # Lets check the new copmanies data base shape"
   ]
  },
  {
   "cell_type": "markdown",
   "metadata": {},
   "source": [
    "#### Update new copmanies"
   ]
  },
  {
   "cell_type": "code",
   "execution_count": 14,
   "metadata": {},
   "outputs": [
    {
     "data": {
      "text/plain": [
       "(0, 58)"
      ]
     },
     "execution_count": 14,
     "metadata": {},
     "output_type": "execute_result"
    }
   ],
   "source": [
    "db_handler.update_companies_db.shape"
   ]
  },
  {
   "cell_type": "code",
   "execution_count": 15,
   "metadata": {},
   "outputs": [
    {
     "data": {
      "text/html": [
       "<div>\n",
       "<style scoped>\n",
       "    .dataframe tbody tr th:only-of-type {\n",
       "        vertical-align: middle;\n",
       "    }\n",
       "\n",
       "    .dataframe tbody tr th {\n",
       "        vertical-align: top;\n",
       "    }\n",
       "\n",
       "    .dataframe thead th {\n",
       "        text-align: right;\n",
       "    }\n",
       "</style>\n",
       "<table border=\"1\" class=\"dataframe\">\n",
       "  <thead>\n",
       "    <tr style=\"text-align: right;\">\n",
       "      <th></th>\n",
       "      <th>Organization Name</th>\n",
       "      <th>Organization Name URL</th>\n",
       "      <th>Founded Date</th>\n",
       "      <th>Founded Date Precision</th>\n",
       "      <th>Full Description</th>\n",
       "      <th>Industries</th>\n",
       "      <th>Headquarters Location</th>\n",
       "      <th>Description</th>\n",
       "      <th>CB Rank (Company)</th>\n",
       "    </tr>\n",
       "  </thead>\n",
       "  <tbody>\n",
       "    <tr>\n",
       "      <th>0</th>\n",
       "      <td>BioCatch</td>\n",
       "      <td>https://www.crunchbase.com/organization/biocatch</td>\n",
       "      <td>2011-01-01</td>\n",
       "      <td>year</td>\n",
       "      <td>BioCatch is the leader in Behavioral Biometric...</td>\n",
       "      <td>Analytics, Cyber Security, FinTech, Fraud Dete...</td>\n",
       "      <td>Tel Aviv, Tel Aviv, Israel</td>\n",
       "      <td>BioCatch unlocks the power of behavior and del...</td>\n",
       "      <td>946</td>\n",
       "    </tr>\n",
       "    <tr>\n",
       "      <th>1</th>\n",
       "      <td>Wearable Devices</td>\n",
       "      <td>https://www.crunchbase.com/organization/wearab...</td>\n",
       "      <td>2014-03-13</td>\n",
       "      <td>day</td>\n",
       "      <td>Wearable Devices Ltd. (NASDAQ: WLDS) is a grow...</td>\n",
       "      <td>Artificial Intelligence (AI), Augmented Realit...</td>\n",
       "      <td>Yoqne`am `illit, HaZafon, Israel</td>\n",
       "      <td>Developing Mudra, a Brain-Computer Interface  ...</td>\n",
       "      <td>3,307</td>\n",
       "    </tr>\n",
       "    <tr>\n",
       "      <th>2</th>\n",
       "      <td>TechSee</td>\n",
       "      <td>https://www.crunchbase.com/organization/techsee</td>\n",
       "      <td>2015-01-01</td>\n",
       "      <td>year</td>\n",
       "      <td>TechSee is a technology and technical support ...</td>\n",
       "      <td>Artificial Intelligence (AI), Augmented Realit...</td>\n",
       "      <td>Herzliya, Tel Aviv, Israel</td>\n",
       "      <td>TechSee builds smart visual platforms that ena...</td>\n",
       "      <td>10,023</td>\n",
       "    </tr>\n",
       "    <tr>\n",
       "      <th>3</th>\n",
       "      <td>Brainsway</td>\n",
       "      <td>https://www.crunchbase.com/organization/brainsway</td>\n",
       "      <td>2003-01-01</td>\n",
       "      <td>year</td>\n",
       "      <td>Brainsway's patented breakthrough technology l...</td>\n",
       "      <td>Biotechnology, Health Care, Life Science</td>\n",
       "      <td>Jerusalem, Yerushalayim, Israel</td>\n",
       "      <td>Brainsway's patented breakthrough technology l...</td>\n",
       "      <td>10,879</td>\n",
       "    </tr>\n",
       "    <tr>\n",
       "      <th>4</th>\n",
       "      <td>Cortica</td>\n",
       "      <td>https://www.crunchbase.com/organization/cortica</td>\n",
       "      <td>2007-01-01</td>\n",
       "      <td>year</td>\n",
       "      <td>Cortica is an Israeli company founded in 2007 ...</td>\n",
       "      <td>Artificial Intelligence (AI), Automotive, Auto...</td>\n",
       "      <td>Tel Aviv, Tel Aviv, Israel</td>\n",
       "      <td>Cortica is a technology company developing AI ...</td>\n",
       "      <td>18,456</td>\n",
       "    </tr>\n",
       "  </tbody>\n",
       "</table>\n",
       "</div>"
      ],
      "text/plain": [
       "  Organization Name                              Organization Name URL  \\\n",
       "0          BioCatch   https://www.crunchbase.com/organization/biocatch   \n",
       "1  Wearable Devices  https://www.crunchbase.com/organization/wearab...   \n",
       "2           TechSee    https://www.crunchbase.com/organization/techsee   \n",
       "3         Brainsway  https://www.crunchbase.com/organization/brainsway   \n",
       "4           Cortica    https://www.crunchbase.com/organization/cortica   \n",
       "\n",
       "  Founded Date Founded Date Precision  \\\n",
       "0   2011-01-01                   year   \n",
       "1   2014-03-13                    day   \n",
       "2   2015-01-01                   year   \n",
       "3   2003-01-01                   year   \n",
       "4   2007-01-01                   year   \n",
       "\n",
       "                                    Full Description  \\\n",
       "0  BioCatch is the leader in Behavioral Biometric...   \n",
       "1  Wearable Devices Ltd. (NASDAQ: WLDS) is a grow...   \n",
       "2  TechSee is a technology and technical support ...   \n",
       "3  Brainsway's patented breakthrough technology l...   \n",
       "4  Cortica is an Israeli company founded in 2007 ...   \n",
       "\n",
       "                                          Industries  \\\n",
       "0  Analytics, Cyber Security, FinTech, Fraud Dete...   \n",
       "1  Artificial Intelligence (AI), Augmented Realit...   \n",
       "2  Artificial Intelligence (AI), Augmented Realit...   \n",
       "3           Biotechnology, Health Care, Life Science   \n",
       "4  Artificial Intelligence (AI), Automotive, Auto...   \n",
       "\n",
       "              Headquarters Location  \\\n",
       "0        Tel Aviv, Tel Aviv, Israel   \n",
       "1  Yoqne`am `illit, HaZafon, Israel   \n",
       "2        Herzliya, Tel Aviv, Israel   \n",
       "3   Jerusalem, Yerushalayim, Israel   \n",
       "4        Tel Aviv, Tel Aviv, Israel   \n",
       "\n",
       "                                         Description CB Rank (Company)  \n",
       "0  BioCatch unlocks the power of behavior and del...               946  \n",
       "1  Developing Mudra, a Brain-Computer Interface  ...             3,307  \n",
       "2  TechSee builds smart visual platforms that ena...            10,023  \n",
       "3  Brainsway's patented breakthrough technology l...            10,879  \n",
       "4  Cortica is a technology company developing AI ...            18,456  "
      ]
     },
     "execution_count": 15,
     "metadata": {},
     "output_type": "execute_result"
    }
   ],
   "source": [
    "# Let's view the new potenital companies from CrunchBase\n",
    "cb_path = 'main/CB_july24.csv'\n",
    "cb_new_data = clean_dataframe('main/CB_july24.csv')\n",
    "cb_new_data.head() "
   ]
  },
  {
   "cell_type": "code",
   "execution_count": 16,
   "metadata": {},
   "outputs": [],
   "source": [
    "db_handler.start_update_process(cb_path, \"cb\")"
   ]
  },
  {
   "cell_type": "code",
   "execution_count": 17,
   "metadata": {},
   "outputs": [
    {
     "data": {
      "text/plain": [
       "(87, 58)"
      ]
     },
     "execution_count": 17,
     "metadata": {},
     "output_type": "execute_result"
    }
   ],
   "source": [
    "db_handler.update_companies_db.shape"
   ]
  },
  {
   "cell_type": "code",
   "execution_count": 20,
   "metadata": {},
   "outputs": [],
   "source": [
    "db_handler.new_companies_db.to_csv(\"main/sadf.csv\")"
   ]
  },
  {
   "cell_type": "code",
   "execution_count": null,
   "metadata": {},
   "outputs": [],
   "source": []
  }
 ],
 "metadata": {
  "kernelspec": {
   "display_name": ".venv",
   "language": "python",
   "name": "python3"
  },
  "language_info": {
   "codemirror_mode": {
    "name": "ipython",
    "version": 3
   },
   "file_extension": ".py",
   "mimetype": "text/x-python",
   "name": "python",
   "nbconvert_exporter": "python",
   "pygments_lexer": "ipython3",
   "version": "3.10.5"
  }
 },
 "nbformat": 4,
 "nbformat_minor": 2
}
